{
 "cells": [
  {
   "cell_type": "markdown",
   "metadata": {},
   "source": [
    "# Regression Metrics "
   ]
  },
  {
   "cell_type": "code",
   "execution_count": 1,
   "metadata": {
    "collapsed": true
   },
   "outputs": [],
   "source": [
    "# Data Mining \n",
    "import numpy as np\n",
    "import pandas as pd \n",
    "\n",
    "# Model Building\n",
    "from sklearn.linear_model import LinearRegression\n",
    "from sklearn.model_selection import train_test_split\n",
    "\n",
    "# Regression Metrics \n",
    "import sklearn.metrics as metrics"
   ]
  },
  {
   "cell_type": "code",
   "execution_count": 2,
   "metadata": {},
   "outputs": [
    {
     "data": {
      "text/html": [
       "<div>\n",
       "<style>\n",
       "    .dataframe thead tr:only-child th {\n",
       "        text-align: right;\n",
       "    }\n",
       "\n",
       "    .dataframe thead th {\n",
       "        text-align: left;\n",
       "    }\n",
       "\n",
       "    .dataframe tbody tr th {\n",
       "        vertical-align: top;\n",
       "    }\n",
       "</style>\n",
       "<table border=\"1\" class=\"dataframe\">\n",
       "  <thead>\n",
       "    <tr style=\"text-align: right;\">\n",
       "      <th></th>\n",
       "      <th>X</th>\n",
       "      <th>Y</th>\n",
       "      <th>month</th>\n",
       "      <th>day</th>\n",
       "      <th>FFMC</th>\n",
       "      <th>DMC</th>\n",
       "      <th>DC</th>\n",
       "      <th>ISI</th>\n",
       "      <th>temp</th>\n",
       "      <th>RH</th>\n",
       "      <th>wind</th>\n",
       "      <th>rain</th>\n",
       "      <th>area</th>\n",
       "    </tr>\n",
       "  </thead>\n",
       "  <tbody>\n",
       "    <tr>\n",
       "      <th>0</th>\n",
       "      <td>7</td>\n",
       "      <td>5</td>\n",
       "      <td>mar</td>\n",
       "      <td>fri</td>\n",
       "      <td>86.2</td>\n",
       "      <td>26.2</td>\n",
       "      <td>94.3</td>\n",
       "      <td>5.1</td>\n",
       "      <td>8.2</td>\n",
       "      <td>51</td>\n",
       "      <td>6.7</td>\n",
       "      <td>0.0</td>\n",
       "      <td>0.0</td>\n",
       "    </tr>\n",
       "    <tr>\n",
       "      <th>1</th>\n",
       "      <td>7</td>\n",
       "      <td>4</td>\n",
       "      <td>oct</td>\n",
       "      <td>tue</td>\n",
       "      <td>90.6</td>\n",
       "      <td>35.4</td>\n",
       "      <td>669.1</td>\n",
       "      <td>6.7</td>\n",
       "      <td>18.0</td>\n",
       "      <td>33</td>\n",
       "      <td>0.9</td>\n",
       "      <td>0.0</td>\n",
       "      <td>0.0</td>\n",
       "    </tr>\n",
       "    <tr>\n",
       "      <th>2</th>\n",
       "      <td>7</td>\n",
       "      <td>4</td>\n",
       "      <td>oct</td>\n",
       "      <td>sat</td>\n",
       "      <td>90.6</td>\n",
       "      <td>43.7</td>\n",
       "      <td>686.9</td>\n",
       "      <td>6.7</td>\n",
       "      <td>14.6</td>\n",
       "      <td>33</td>\n",
       "      <td>1.3</td>\n",
       "      <td>0.0</td>\n",
       "      <td>0.0</td>\n",
       "    </tr>\n",
       "    <tr>\n",
       "      <th>3</th>\n",
       "      <td>8</td>\n",
       "      <td>6</td>\n",
       "      <td>mar</td>\n",
       "      <td>fri</td>\n",
       "      <td>91.7</td>\n",
       "      <td>33.3</td>\n",
       "      <td>77.5</td>\n",
       "      <td>9.0</td>\n",
       "      <td>8.3</td>\n",
       "      <td>97</td>\n",
       "      <td>4.0</td>\n",
       "      <td>0.2</td>\n",
       "      <td>0.0</td>\n",
       "    </tr>\n",
       "    <tr>\n",
       "      <th>4</th>\n",
       "      <td>8</td>\n",
       "      <td>6</td>\n",
       "      <td>mar</td>\n",
       "      <td>sun</td>\n",
       "      <td>89.3</td>\n",
       "      <td>51.3</td>\n",
       "      <td>102.2</td>\n",
       "      <td>9.6</td>\n",
       "      <td>11.4</td>\n",
       "      <td>99</td>\n",
       "      <td>1.8</td>\n",
       "      <td>0.0</td>\n",
       "      <td>0.0</td>\n",
       "    </tr>\n",
       "  </tbody>\n",
       "</table>\n",
       "</div>"
      ],
      "text/plain": [
       "   X  Y month  day  FFMC   DMC     DC  ISI  temp  RH  wind  rain  area\n",
       "0  7  5   mar  fri  86.2  26.2   94.3  5.1   8.2  51   6.7   0.0   0.0\n",
       "1  7  4   oct  tue  90.6  35.4  669.1  6.7  18.0  33   0.9   0.0   0.0\n",
       "2  7  4   oct  sat  90.6  43.7  686.9  6.7  14.6  33   1.3   0.0   0.0\n",
       "3  8  6   mar  fri  91.7  33.3   77.5  9.0   8.3  97   4.0   0.2   0.0\n",
       "4  8  6   mar  sun  89.3  51.3  102.2  9.6  11.4  99   1.8   0.0   0.0"
      ]
     },
     "execution_count": 2,
     "metadata": {},
     "output_type": "execute_result"
    }
   ],
   "source": [
    "df = pd.read_csv(\"forestfires.csv\")\n",
    "df.head()"
   ]
  },
  {
   "cell_type": "markdown",
   "metadata": {},
   "source": [
    "## Building MLR Models to Predict Area Affected by Forest Fires\n",
    "\n",
    "### _Model 1 : Using Temperature & Rain as Predictor Variables_"
   ]
  },
  {
   "cell_type": "code",
   "execution_count": 3,
   "metadata": {},
   "outputs": [],
   "source": [
    "# Defining x and y variables \n",
    "x1 = df[['temp','rain']]\n",
    "y1 = df['area']\n",
    "\n",
    "# Splitting into training and testing sets\n",
    "X1_train, X1_test, y1_train, y1_test = train_test_split(x1, y1,test_size=0.1)\n",
    "\n",
    "# Fitting linear regression model on training data \n",
    "linreg1 = LinearRegression()\n",
    "linreg1.fit(X1_train, y1_train)\n",
    "\n",
    "# Making predictions on testing data \n",
    "y_pred1 = linreg1.predict(X1_test)"
   ]
  },
  {
   "cell_type": "markdown",
   "metadata": {},
   "source": [
    "### _Model 2 : Using Engineered Feature \"Summer Months\", Temperature, & Rain as Predictor Variables_"
   ]
  },
  {
   "cell_type": "code",
   "execution_count": 4,
   "metadata": {},
   "outputs": [
    {
     "data": {
      "text/plain": [
       "0    0\n",
       "1    0\n",
       "2    0\n",
       "3    0\n",
       "4    0\n",
       "Name: month, dtype: int64"
      ]
     },
     "execution_count": 4,
     "metadata": {},
     "output_type": "execute_result"
    }
   ],
   "source": [
    "# Engineering new feature 'Summer'\n",
    "\n",
    "# Grabbing summer months \n",
    "summer = ['may','jun','jul','aug']\n",
    "\n",
    "# Creating function to change 'Month' to binary variable column \n",
    "def summer_flag(x):\n",
    "    summer = []\n",
    "    if x in summer: \n",
    "        return 1\n",
    "    else: \n",
    "        return 0\n",
    "\n",
    "# Applying function to 'month' column\n",
    "df['month'] = df['month'].apply(summer_flag)\n",
    "\n",
    "# Inspecting\n",
    "df['month'].head(5)"
   ]
  },
  {
   "cell_type": "code",
   "execution_count": 5,
   "metadata": {
    "collapsed": true
   },
   "outputs": [],
   "source": [
    "# Defining x and y variables \n",
    "x2 = df[['month','temp','rain']]\n",
    "y2 = df['area']\n",
    "\n",
    "# Splitting into training and testing sets\n",
    "X2_train, X2_test, y2_train, y2_test = train_test_split(x2, y2,test_size=0.1)\n",
    "\n",
    "# Fitting linear regression model on training data \n",
    "linreg2 = LinearRegression()\n",
    "linreg2.fit(X2_train, y2_train)\n",
    "\n",
    "# Making predictions on testing data \n",
    "y_pred2 = linreg2.predict(X2_test)"
   ]
  },
  {
   "cell_type": "markdown",
   "metadata": {},
   "source": [
    "## Regression Metrics\n",
    "Once models have been build models, we want to evaluate their performance. There are six different regressionn metrics that assist in doing so : \n",
    ">  ### Mean Squared Error \n",
    "   - Represents average distance squared from the predicted value\n",
    "   - Very common metric; part of other calculations\n",
    "   - Not in originnal units of Y & heavily affected by outliers\n",
    "   - Goal : Get MSE as close to 0 as possible \n",
    "\n",
    "> ### Root Mean Squared Error\n",
    "    - Represents average distance from the predicted value\n",
    "    - Pretty common; part of other calculations\n",
    "    - In original units of Y but still heavily affected by outliers\n",
    "    - Goal : Get RMSE as close to 0 as possible \n",
    "\n",
    "> ### Mean Squared Log Error\n",
    "    - Represents average distance from the predicted value\n",
    "    - Not in original units of Y, but Logarithm accounts for large values of predicted and observed values\n",
    "    - Goal : Get MSLE as close to 0 as possible \n",
    "> - Median Absolute Error\n",
    "    - Represents median distance from the predicted value \n",
    "    - In original units of Y & nnoy heavily affected by outliers\n",
    "    - Goal : Get MedAE  as close to 0 as possible\n",
    "> - $R^2$ Score \n",
    "    - Interpretation :  An $R^2$ value of 0.8 means that 80% of the variability in the data are explained by our model\n",
    "    - Common metric \n",
    "    - As you add more variables, $R^2$ will never decrease\n",
    "    - Goal: Get $R^2$ as close to 1 as possible\n",
    "> - Adjusted $R^2$ Score  \n",
    "    - Interpretation :  Isn't exactly the same as $R^2$, although we often treat it as such\n",
    "    - Penalizes for \"bad\" variables\n",
    "    - Goal : Get $R^2_{adj}$ as close to 1 as possible\n",
    "    \n",
    "- The metrics detailed above can be easily accessed utilizing sklearn and pandas, the formulas for which are shown below : \n",
    "\n",
    "### Model 1: "
   ]
  },
  {
   "cell_type": "code",
   "execution_count": null,
   "metadata": {},
   "outputs": [],
   "source": [
    "r2_score = metrics.r2_score(y1_test,y_pred1)\n",
    "mean_squared_error = metrics.mean_squared_error(y1_test,y_pred1)\n",
    "root_mean_squared_error = (metrics.mean_squared_error(y1_test,y_pred1)) ** 0.5\n",
    "mean_squared_absolute_error = metrics.mean_absolute_error(y1_test,y_pred1)"
   ]
  },
  {
   "cell_type": "code",
   "execution_count": null,
   "metadata": {},
   "outputs": [],
   "source": [
    "# Printing Regression Metrics\n",
    "print('r2_score:',r2_score)\n",
    "print('mean squared error:',mean_squared_error)\n",
    "print('root mean squared error:',root_mean_squared_error)\n",
    "print('mean squared absolute error:',mean_squared_absolute_error)"
   ]
  },
  {
   "cell_type": "markdown",
   "metadata": {},
   "source": [
    "### _Model 2:_"
   ]
  },
  {
   "cell_type": "code",
   "execution_count": null,
   "metadata": {
    "collapsed": true
   },
   "outputs": [],
   "source": [
    "r2_score = metrics.r2_score(y2_test,y_pred2)\n",
    "mean_squared_error = metrics.mean_squared_error(y2_test,y_pred2)\n",
    "root_mean_squared_error = (metrics.mean_squared_error(y2_test,y_pred2)) ** 0.5\n",
    "mean_squared_absolute_error = metrics.mean_absolute_error(y2_test,y_pred2)"
   ]
  },
  {
   "cell_type": "code",
   "execution_count": null,
   "metadata": {},
   "outputs": [],
   "source": [
    "# Printing Regression Metrics\n",
    "print('r2_score:',r2_score)\n",
    "print('mean squared error:',mean_squared_error)\n",
    "print('root mean squared error:',root_mean_squared_error)\n",
    "print('mean squared absolute error:',mean_squared_absolute_error)"
   ]
  },
  {
   "cell_type": "markdown",
   "metadata": {},
   "source": [
    "## Model Picking Based on Regression Metrics \n",
    "Comparing the four regression metrics produced above to select the best performing model \n",
    "\n",
    "### _r2 score-Model 2 Wins_\n",
    "   - Model 1 : -0.19\n",
    "   - Model 2 : -0.08\n",
    "\n",
    "### _MSE - Model 1 Wins_ \n",
    "   - Model 1 : 299.04\n",
    "   - Model 2 : 1633.25\n",
    "\n",
    "### _RMSE - Model 1 Wins_\n",
    "   - Model 1 : 17.29\n",
    "   - Model 2 : 40.41\n",
    "\n",
    "### _MSAE - Model 1 Wins_ \n",
    "   - Model 1 : 14.18\n",
    "   - Model 2 : 21.18\n",
    "    \n",
    "# ---> Model 1 is the winner <---"
   ]
  }
 ],
 "metadata": {
  "kernelspec": {
   "display_name": "Python [default]",
   "language": "python",
   "name": "python3"
  },
  "language_info": {
   "codemirror_mode": {
    "name": "ipython",
    "version": 3
   },
   "file_extension": ".py",
   "mimetype": "text/x-python",
   "name": "python",
   "nbconvert_exporter": "python",
   "pygments_lexer": "ipython3",
   "version": "3.6.3"
  }
 },
 "nbformat": 4,
 "nbformat_minor": 2
}
